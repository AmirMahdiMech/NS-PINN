{
  "cells": [
    {
      "cell_type": "markdown",
      "metadata": {
        "id": "GJUnTwcZXU_E"
      },
      "source": [
        "Solve NS for flow around a cylinder (x,y,t) = [-L/2 L/2] * [-L/2 L/2] * (0,1)\n",
        "\n",
        "L = 0.01 m\n",
        "\n",
        "$IC : u,v = 0$\n",
        "\n",
        "$BC : \\frac{\\partial \\psi^*}{\\partial y^*}(-1,y^*) = 1$; $\\frac{\\partial \\psi^*}{\\partial x^*}(x^*,\\pm 1) = 0$;\n",
        "\n",
        "\n",
        "incompressible Newtonian 2D momentum and mass conservation condensed into one equation:\n",
        "\n",
        "$\\frac{\\partial \\bigtriangledown^{*2} \\psi^* }{\\partial t^*} + \\frac{\\partial \\bigtriangledown^{*2} \\psi^* }{\\partial x^*} \\frac{\\partial \\psi^* }{\\partial y^*} - \\frac{\\partial \\bigtriangledown^{*2} \\psi^* }{\\partial y^*} \\frac{\\partial \\psi^* }{\\partial x^*} = \\frac{1}{Re} \\bigtriangledown^{*4} \\psi^*$\n",
        "\n",
        "Recommended algorithm: https://github.com/jdtoscano94/Learning-Python-Physics-Informed-Machine-Learning-PINNs-DeepONets/blob/main/PINNs/5_BurgersEquation.ipynb\n",
        "\n",
        "Similar code with deepxde: https://github.com/lululxvi/deepxde/blob/master/examples/pinn_forward/Kovasznay_flow.py\n",
        "\n",
        "Similar code for flow around cylinder : https://github.com/Shengfeng233/PINN-for-NS-equation/blob/sparse_data/pinn_model.py#L391\n",
        "\n",
        "Equations:https://en.wikipedia.org/wiki/Non-dimensionalization_and_scaling_of_the_Navier%E2%80%93Stokes_equations\n",
        "\n",
        "Consequently, much effort has been expended to eliminate the pressure from all or part of the computational process. The stream function formulation eliminates the pressure but only in two dimensions and at the expense of introducing higher derivatives and elimination of the velocity, which is the primary variable of interest.\n",
        "\n",
        "\n",
        "\n"
      ]
    },
    {
      "cell_type": "code",
      "execution_count": null,
      "metadata": {
        "id": "YEHpS5fVXSE3"
      },
      "outputs": [],
      "source": [
        "# import scipy.io\n",
        "import numpy as np\n",
        "import torch\n",
        "import torch.nn as nn\n",
        "import matplotlib.pyplot as plt\n",
        "import seaborn as sns\n",
        "from functools import partial\n",
        "import pandas as pd\n",
        "import random as random\n",
        "# from pyDOE import lhs"
      ]
    },
    {
      "cell_type": "code",
      "source": [
        "from google.colab import drive\n",
        "drive.mount('/content/drive')"
      ],
      "metadata": {
        "id": "AF75lm2-V6qJ"
      },
      "execution_count": null,
      "outputs": []
    },
    {
      "cell_type": "code",
      "source": [
        "# Parameters\n",
        "L = 0.01\n",
        "U = 0.01\n",
        "Re = 100"
      ],
      "metadata": {
        "id": "Lx2e_FCUuy0U"
      },
      "execution_count": null,
      "outputs": []
    },
    {
      "cell_type": "code",
      "source": [
        "a = torch.tensor(2.35575)\n",
        "b = a.to(torch.float32)\n",
        "print(\"%.6f\" % b)\n"
      ],
      "metadata": {
        "colab": {
          "base_uri": "https://localhost:8080/"
        },
        "id": "mXhgxTp9Wa7o",
        "outputId": "6db03cfa-e932-4727-b2d2-0bb3469d5bcd"
      },
      "execution_count": null,
      "outputs": [
        {
          "output_type": "stream",
          "name": "stdout",
          "text": [
            "2.355750\n"
          ]
        }
      ]
    },
    {
      "cell_type": "code",
      "execution_count": null,
      "metadata": {
        "colab": {
          "base_uri": "https://localhost:8080/"
        },
        "id": "rYOPlza--p6z",
        "outputId": "a26da54c-ac28-40d2-a738-e9453763a4cf"
      },
      "outputs": [
        {
          "output_type": "stream",
          "name": "stdout",
          "text": [
            "device is:  cuda:0\n"
          ]
        }
      ],
      "source": [
        "device = torch.device(\"cuda:0\" if torch.cuda.is_available() else \"cpu\")\n",
        "print('device is: ', device)\n",
        "#torch.set_default_tensor_type(torch.DoubleTensor)"
      ]
    },
    {
      "cell_type": "code",
      "source": [
        "seed = 100"
      ],
      "metadata": {
        "id": "q_eTDz2ibBqH"
      },
      "execution_count": null,
      "outputs": []
    },
    {
      "cell_type": "code",
      "execution_count": null,
      "metadata": {
        "id": "J-Z4bxLR6GnU"
      },
      "outputs": [],
      "source": [
        "torch.manual_seed(seed)\n",
        "class PINN_Net(nn.Module):\n",
        "    def __init__(self, layer_mat):\n",
        "        torch.manual_seed(seed)\n",
        "        super(PINN_Net, self).__init__()\n",
        "        self.layer_num = len(layer_mat) - 1\n",
        "        self.base = nn.Sequential()\n",
        "        for i in range(0, self.layer_num - 1):\n",
        "            self.base.add_module(str(i) + \"linear\", nn.Linear(layer_mat[i], layer_mat[i + 1]))\n",
        "            # nn.init.kaiming_normal()\n",
        "            self.base.add_module(str(i) + \"Activation\", nn.Tanh())\n",
        "        self.base.add_module(str(self.layer_num - 1) + \"linear\",\n",
        "                             nn.Linear(layer_mat[self.layer_num - 1], layer_mat[self.layer_num]))\n",
        "        # self.lam1 = nn.Parameter(torch.randn(1, requires_grad=True))\n",
        "        # self.lam2 = nn.Parameter(torch.randn(1, requires_grad=True))\n",
        "        self.Initial_param()\n",
        "        # self.double()\n",
        "\n",
        "    def forward(self, x, y, t):\n",
        "        X = torch.cat([x, y, t], 1).requires_grad_(True)\n",
        "        predict = self.base(X)  #predict = psi#\n",
        "        return predict\n",
        "\n",
        "    def Initial_param(self):\n",
        "        for name, param in self.base.named_parameters():\n",
        "            if name.endswith('weight'):\n",
        "                nn.init.xavier_normal_(param)\n",
        "            elif name.endswith('bias'):\n",
        "                nn.init.zeros_(param)\n",
        "\n",
        "    def loss_reference(self, x_sens, y_sens, t_sens, u_sens, v_sens):\n",
        "        predict_out = self.forward(x_sens, y_sens, t_sens)\n",
        "        psi = predict_out[:, 0].reshape(-1, 1)\n",
        "        u_predict = torch.autograd.grad(psi.sum(), y_sens, create_graph=True, retain_graph=True)[0]\n",
        "        v_predict = -torch.autograd.grad(psi.sum(), x_sens, create_graph=True, retain_graph=True)[0]\n",
        "        mse = torch.nn.MSELoss()\n",
        "        mse_predict = mse(u_predict, u_sens) + mse(v_predict, v_sens)\n",
        "        return mse_predict\n",
        "\n",
        "\n",
        "    def BC_loss_velocity(self, x, y, t, u, v):\n",
        "        predict_out = self.forward(x, y, t)\n",
        "        psi = predict_out[:, 0].reshape(-1, 1)\n",
        "        u_predict = torch.autograd.grad(psi.sum(), y, create_graph=True, retain_graph=True)[0]\n",
        "        v_predict = -torch.autograd.grad(psi.sum(), x, create_graph=True, retain_graph=True)[0]\n",
        "        mse = torch.nn.MSELoss()\n",
        "        mse_predict = mse(u_predict, u) + mse(v_predict, v)\n",
        "        return mse_predict\n",
        "\n",
        "\n",
        "\n",
        "    def PDE_loss(self, x, y, t, Re):\n",
        "        # print('begin of PDE_loss')\n",
        "        predict_out = self.forward(x, y, t)\n",
        "        psi = predict_out[:, 0].reshape(-1, 1)\n",
        "        # p = predict_out[:, 1].reshape(-1, 1)\n",
        "        psi_x = torch.autograd.grad(psi.sum(), x, create_graph=True, retain_graph=True)[0]\n",
        "        psi_y = torch.autograd.grad(psi.sum(), y, create_graph=True, retain_graph=True)[0]\n",
        "        psi_xx = torch.autograd.grad(psi_x.sum(), x, create_graph=True, retain_graph=True)[0]\n",
        "        psi_xxx = torch.autograd.grad(psi_xx.sum(), x, create_graph=True, retain_graph=True)[0]\n",
        "        psi_xxxx = torch.autograd.grad(psi_xxx.sum(), x, create_graph=True, retain_graph=True)[0]\n",
        "        psi_yy = torch.autograd.grad(psi_y.sum(), y, create_graph=True, retain_graph=True)[0]\n",
        "        psi_yyy = torch.autograd.grad(psi_yy.sum(), y, create_graph=True, retain_graph=True)[0]\n",
        "        psi_yyyy = torch.autograd.grad(psi_yyy.sum(), y, create_graph=True, retain_graph=True)[0]\n",
        "        psi_xxy = torch.autograd.grad(psi_xx.sum(), y, create_graph=True, retain_graph=True)[0]\n",
        "        psi_xxyy = torch.autograd.grad(psi_xxy.sum(), y, create_graph=True, retain_graph=True)[0]\n",
        "        Laplacian_psi = psi_xx + psi_yy\n",
        "        dLaplacian_dt = torch.autograd.grad(Laplacian_psi.sum(), t, create_graph=True, retain_graph=True)[0]\n",
        "        dLaplacian_dx = torch.autograd.grad(Laplacian_psi.sum(), x, create_graph=True, retain_graph=True)[0]\n",
        "        dLaplacian_dy = torch.autograd.grad(Laplacian_psi.sum(), y, create_graph=True, retain_graph=True)[0]\n",
        "\n",
        "        f_equation = dLaplacian_dt + dLaplacian_dx*psi_y - dLaplacian_dy*psi_x - (1/Re)*(psi_xxxx + psi_yyyy + 2*psi_xxyy)\n",
        "        mse = torch.nn.MSELoss()\n",
        "        batch_t_zeros = torch.from_numpy(np.zeros((x.shape[0], 1))).float().requires_grad_(True).to(device)\n",
        "        mse_equation =  mse(f_equation, batch_t_zeros)\n",
        "\n",
        "        return mse_equation\n",
        "\n",
        "    def total_loss(self, x_bc, y_bc, t_bc, u_bc, v_bc, x_sens, y_sens, t_sens, u_sens, v_sens):\n",
        "         output = self.BC_loss_velocity(x_bc, y_bc, t_bc, u_bc, v_bc) + self.PDE_loss(x_bc, y_bc, t_bc, Re) + self.PDE_loss(x_sens, y_sens, t_sens, Re) + self.loss_reference(x_sens,y_sens,t_sens,u_sens,v_sens)\n",
        "         #print('loss type: ', output.dtype)\n",
        "         return output\n",
        "        #  return output.double()\n",
        "\n",
        "\n",
        "\n",
        "    def inference(self, x, y, t):\n",
        "        # predict_out = self.forward(x, y, t)\n",
        "        # psi = predict_out[:, 0].reshape(-1, 1)\n",
        "        # p = predict_out[:, 1].reshape(-1, 1)\n",
        "        # u = torch.autograd.grad(psi.sum(), y)[0]\n",
        "        # v = -torch.autograd.grad(psi.sum(), x)[0]\n",
        "\n",
        "        predict_out = self.forward(x, y, t)\n",
        "        psi = predict_out[:, 0].reshape(-1, 1)\n",
        "        u = torch.autograd.grad(psi.sum(), y, create_graph=True, retain_graph=True)[0]\n",
        "        v = -torch.autograd.grad(psi.sum(), x, create_graph=True, retain_graph=True)[0]\n",
        "\n",
        "        return u,v"
      ]
    },
    {
      "cell_type": "code",
      "source": [
        "u_sens_df = pd.read_csv('/content/scaledU.csv')\n",
        "v_sens_df = pd.read_csv('/content/scaledV.csv')\n",
        "t_list = []\n",
        "for i in range(101):\n",
        "    t_list.append(i/100)"
      ],
      "metadata": {
        "id": "AhBlYMOh5NlW"
      },
      "execution_count": null,
      "outputs": []
    },
    {
      "cell_type": "code",
      "source": [
        "random.seed(0)\n",
        "x_sens = torch.tensor(u_sens_df['x'],dtype = torch.float64)\n",
        "y_sens = torch.tensor(u_sens_df['y'],dtype = torch.float64)\n",
        "t_sens = torch.tensor(t_list,dtype = torch.float64)\n",
        "random_rows = random.sample(range(len(x_sens)),100)\n",
        "random_columns = random.sample(range(len(t_sens)),10)\n",
        "x_sens_f = x_sens[random_rows]\n",
        "y_sens_f = y_sens[random_rows]\n",
        "t_sens_f = t_sens[random_columns].requires_grad_(True).to(device).to(torch.float64)"
      ],
      "metadata": {
        "id": "0jUT1SoK8VDk"
      },
      "execution_count": null,
      "outputs": []
    },
    {
      "cell_type": "code",
      "source": [
        "x_sens_f"
      ],
      "metadata": {
        "id": "NCN_tw27QTiR"
      },
      "execution_count": null,
      "outputs": []
    },
    {
      "cell_type": "code",
      "source": [
        "x_sens_ff = torch.repeat_interleave(x_sens_f, 10).unsqueeze(-1).requires_grad_(True).to(device)\n",
        "y_sens_ff = torch.repeat_interleave(y_sens_f, 10).unsqueeze(-1).requires_grad_(True).to(device)\n",
        "t_sens_ff = torch.repeat_interleave(t_sens_f, 100).unsqueeze(-1).requires_grad_(True).to(device)\n",
        "u_sens = torch.empty_like(x_sens_ff)\n",
        "v_sens = torch.empty_like(x_sens_ff)\n",
        "\n",
        "for i in range(len(x_sens_ff)):\n",
        "    #print(i)\n",
        "    filtered_row_u = u_sens_df[(u_sens_df['x'] == x_sens_ff[i].item()) & (u_sens_df['y'] == y_sens_ff[i].item())]\n",
        "    filtered_row_v = v_sens_df[(v_sens_df['x'] == x_sens_ff[i].item()) & (v_sens_df['y'] == y_sens_ff[i].item())]\n",
        "    t_index = np.where(np.array(t_list) == t_sens_ff[i].item())[0][0] + 2\n",
        "    if (len(filtered_row_u) != len(filtered_row_v)):\n",
        "      print(\"keer koloft\")\n",
        "      break\n",
        "    elif (len(filtered_row_u)==1):\n",
        "        u = filtered_row_u.iloc[:, [t_index]].iloc[0][0]\n",
        "        v = filtered_row_v.iloc[:, [t_index]].iloc[0][0]\n",
        "        u_sens[i] = u\n",
        "        v_sens[i] = v\n",
        "\n",
        "u_sens = u_sens.to(device)\n",
        "v_sens = v_sens.to(device)\n",
        "\n",
        "x_sens_ff = x_sens_ff / (L/2)\n",
        "y_sens_ff = y_sens_ff / (L/2)"
      ],
      "metadata": {
        "id": "Fa56f5ueko2F"
      },
      "execution_count": null,
      "outputs": []
    },
    {
      "cell_type": "code",
      "source": [
        "x_sens_ff.shape"
      ],
      "metadata": {
        "id": "HXHHpbdyP33R",
        "colab": {
          "base_uri": "https://localhost:8080/"
        },
        "outputId": "61172dee-edcd-4043-c6a0-183c868630f3"
      },
      "execution_count": null,
      "outputs": [
        {
          "output_type": "execute_result",
          "data": {
            "text/plain": [
              "torch.Size([1000, 1])"
            ]
          },
          "metadata": {},
          "execution_count": 20
        }
      ]
    },
    {
      "cell_type": "code",
      "execution_count": null,
      "metadata": {
        "id": "5hJhd5UC_vsV"
      },
      "outputs": [],
      "source": [
        "x_min, y_min, x_max, y_max = -1, -1, +1, +1\n",
        "t_min, t_max = 0,1\n",
        "total_points = 100\n",
        "#time_steps = 0.01"
      ]
    },
    {
      "cell_type": "code",
      "execution_count": null,
      "metadata": {
        "id": "1hmmSdjRC8HD"
      },
      "outputs": [],
      "source": [
        "x_leftbc = -1*torch.ones(total_points).requires_grad_(True).to(device).to(torch.float64)\n",
        "y_leftbc = torch.linspace(y_min,y_max,total_points).requires_grad_(True).to(device).to(torch.float64)\n",
        "\n",
        "x_upperbc = torch.linspace(x_min,x_max,total_points).requires_grad_(True).to(device).to(torch.float64)\n",
        "y_upperbc = +1*torch.ones(total_points).requires_grad_(True).to(device).to(torch.float64)\n",
        "\n",
        "x_lowerbc = torch.linspace(x_min,x_max,total_points).requires_grad_(True).to(device).to(torch.float64)\n",
        "y_lowerbc = -1*torch.ones(total_points).requires_grad_(True).to(device).to(torch.float64)\n",
        "\n",
        "u_leftbc = torch.ones(total_points).requires_grad_(True).to(device).to(torch.float64)\n",
        "v_leftbc = 0*torch.ones(total_points).requires_grad_(True).to(device).to(torch.float64)\n",
        "\n",
        "u_upperbc = 0*torch.ones(total_points).requires_grad_(True).to(device).to(torch.float64)\n",
        "v_upperbc = 0*torch.ones(total_points).requires_grad_(True).to(device).to(torch.float64)\n",
        "\n",
        "u_lowerbc = 0*torch.ones(total_points).requires_grad_(True).to(device).to(torch.float64)\n",
        "v_lowerbc = 0*torch.ones(total_points).requires_grad_(True).to(device).to(torch.float64)\n",
        "\n",
        "#t_bc = torch.linspace(t_min,t_max,time_steps).requires_grad_(True)\n"
      ]
    },
    {
      "cell_type": "code",
      "source": [
        "x_leftbc.to(torch.float64).dtype"
      ],
      "metadata": {
        "id": "zsnChlpgEmIn",
        "colab": {
          "base_uri": "https://localhost:8080/"
        },
        "outputId": "3e59b30a-30e8-424d-efc2-fff60400860a"
      },
      "execution_count": null,
      "outputs": [
        {
          "output_type": "execute_result",
          "data": {
            "text/plain": [
              "torch.float64"
            ]
          },
          "metadata": {},
          "execution_count": 11
        }
      ]
    },
    {
      "cell_type": "code",
      "execution_count": null,
      "metadata": {
        "colab": {
          "base_uri": "https://localhost:8080/"
        },
        "id": "WnwTBr6RPMjw",
        "outputId": "7c4992a7-d2e5-4c4c-f5c7-f556034b540a"
      },
      "outputs": [
        {
          "output_type": "stream",
          "name": "stderr",
          "text": [
            "/usr/local/lib/python3.10/dist-packages/torch/functional.py:504: UserWarning: torch.meshgrid: in an upcoming release, it will be required to pass the indexing argument. (Triggered internally at ../aten/src/ATen/native/TensorShape.cpp:3483.)\n",
            "  return _VF.meshgrid(tensors, **kwargs)  # type: ignore[attr-defined]\n"
          ]
        }
      ],
      "source": [
        "x_leftbc, t_leftbc = torch.meshgrid(x_leftbc, t_sens_ff.squeeze())\n",
        "y_leftbc, t_leftbc = torch.meshgrid(y_leftbc, t_sens_ff.squeeze())\n",
        "u_leftbc, t_leftbc= torch.meshgrid(u_leftbc, t_sens_ff.squeeze())\n",
        "v_leftbc, t_leftbc= torch.meshgrid(v_leftbc, t_sens_ff.squeeze())\n",
        "\n",
        "x_leftbc = torch.reshape(x_leftbc, (-1, 1))\n",
        "y_leftbc = torch.reshape(y_leftbc, (-1, 1))\n",
        "t_leftbc = torch.reshape(t_leftbc, (-1, 1))\n",
        "u_leftbc = torch.reshape(u_leftbc, (-1, 1))\n",
        "v_leftbc = torch.reshape(v_leftbc, (-1, 1))\n",
        "\n",
        "#x_leftbc.shape , y_leftbc.shape, t_sens_ff.shape, u_leftbc.shape, v_leftbc.shape\n"
      ]
    },
    {
      "cell_type": "code",
      "source": [
        "print( t_leftbc.shape)"
      ],
      "metadata": {
        "id": "QmQhaY4jxbz6",
        "colab": {
          "base_uri": "https://localhost:8080/"
        },
        "outputId": "d49cc0e9-33d7-4d67-d21f-ffe14f120986"
      },
      "execution_count": null,
      "outputs": [
        {
          "output_type": "stream",
          "name": "stdout",
          "text": [
            "torch.Size([60000, 1])\n"
          ]
        }
      ]
    },
    {
      "cell_type": "code",
      "execution_count": null,
      "metadata": {
        "colab": {
          "base_uri": "https://localhost:8080/"
        },
        "id": "YgTCjan2QAUX",
        "outputId": "095a10d2-16b2-4186-9ba0-e70e6a16d2d5"
      },
      "outputs": [
        {
          "output_type": "execute_result",
          "data": {
            "text/plain": [
              "(torch.Size([100000, 1]),\n",
              " torch.Size([100000, 1]),\n",
              " torch.Size([100000, 1]),\n",
              " torch.Size([100000, 1]),\n",
              " torch.Size([100000, 1]))"
            ]
          },
          "metadata": {},
          "execution_count": 12
        }
      ],
      "source": [
        "x_upperbc, t_upperbc = torch.meshgrid(x_upperbc, t_sens_ff.squeeze())\n",
        "y_upperbc, t_upperbc = torch.meshgrid(y_upperbc, t_sens_ff.squeeze())\n",
        "u_upperbc, t_upperbc = torch.meshgrid(u_upperbc, t_sens_ff.squeeze())\n",
        "v_upperbc, t_upperbc = torch.meshgrid(v_upperbc, t_sens_ff.squeeze())\n",
        "\n",
        "x_upperbc = torch.reshape(x_upperbc, (-1, 1))\n",
        "y_upperbc = torch.reshape(y_upperbc, (-1, 1))\n",
        "t_upperbc = torch.reshape(t_upperbc, (-1, 1))\n",
        "u_upperbc = torch.reshape(u_upperbc, (-1, 1))\n",
        "v_upperbc = torch.reshape(v_upperbc, (-1, 1))\n",
        "\n",
        "x_upperbc.shape , y_upperbc.shape, t_upperbc.shape, u_upperbc.shape, v_upperbc.shape"
      ]
    },
    {
      "cell_type": "code",
      "execution_count": null,
      "metadata": {
        "colab": {
          "base_uri": "https://localhost:8080/"
        },
        "id": "7J6G7F0sQAZh",
        "outputId": "b333a86f-4522-4b30-cb2d-c65195d5c07d"
      },
      "outputs": [
        {
          "output_type": "execute_result",
          "data": {
            "text/plain": [
              "(torch.Size([100000, 1]),\n",
              " torch.Size([100000, 1]),\n",
              " torch.Size([100000, 1]),\n",
              " torch.Size([100000, 1]),\n",
              " torch.Size([100000, 1]))"
            ]
          },
          "metadata": {},
          "execution_count": 13
        }
      ],
      "source": [
        "x_lowerbc, t_lowerbc = torch.meshgrid(x_lowerbc, t_sens_ff.squeeze())\n",
        "y_lowerbc, t_lowerbc = torch.meshgrid(y_lowerbc, t_sens_ff.squeeze())\n",
        "u_lowerbc, t_lowerbc = torch.meshgrid(u_lowerbc, t_sens_ff.squeeze())\n",
        "v_lowerbc, t_lowerbc = torch.meshgrid(v_lowerbc, t_sens_ff.squeeze())\n",
        "\n",
        "x_lowerbc = torch.reshape(x_lowerbc, (-1, 1))\n",
        "y_lowerbc = torch.reshape(y_lowerbc, (-1, 1))\n",
        "t_lowerbc = torch.reshape(t_lowerbc, (-1, 1))\n",
        "u_lowerbc = torch.reshape(u_lowerbc, (-1, 1))\n",
        "v_lowerbc = torch.reshape(v_lowerbc, (-1, 1))\n",
        "\n",
        "x_lowerbc.shape , y_lowerbc.shape, t_lowerbc.shape, u_lowerbc.shape, v_lowerbc.shape"
      ]
    },
    {
      "cell_type": "code",
      "execution_count": null,
      "metadata": {
        "id": "4wm2aoU4W2af"
      },
      "outputs": [],
      "source": [
        "x_bc = torch.cat((x_leftbc, x_upperbc, x_lowerbc), dim=0).to(device)\n",
        "y_bc = torch.cat((y_leftbc, y_upperbc, y_lowerbc), dim=0).to(device)\n",
        "u_bc = torch.cat((u_leftbc, u_upperbc, u_lowerbc), dim=0).to(device)\n",
        "v_bc = torch.cat((v_leftbc, v_upperbc, v_lowerbc), dim=0).to(device)\n",
        "t_bc = torch.cat((t_leftbc, t_upperbc, t_lowerbc), dim=0).to(device)"
      ]
    },
    {
      "cell_type": "code",
      "execution_count": null,
      "metadata": {
        "id": "fy7EoI9kX13N"
      },
      "outputs": [],
      "source": [
        "x_bc.shape , y_bc.shape , t_bc.shape, u_bc.shape , v_bc.shape"
      ]
    },
    {
      "cell_type": "code",
      "execution_count": null,
      "metadata": {
        "id": "sSapBPngZI4e",
        "colab": {
          "base_uri": "https://localhost:8080/"
        },
        "outputId": "968786f6-bb5b-427c-fa55-1e1374746053"
      },
      "outputs": [
        {
          "output_type": "execute_result",
          "data": {
            "text/plain": [
              "(torch.Size([6000000, 1]), torch.Size([6000000, 1]), torch.Size([6000000, 1]))"
            ]
          },
          "metadata": {},
          "execution_count": 28
        }
      ],
      "source": [
        "# Defining interior domain (Total - boundaries)\n",
        "#.view(-1,1).\n",
        "#t_collo = torch.linspace(t_min,t_max,time_steps).requires_grad_(True)\n",
        "\n",
        "x_collo = torch.linspace(x_min+1e-3,x_max-1e-3,total_points).requires_grad_(True).to(device).to(torch.float64)\n",
        "y_collo = torch.linspace(y_min+1e-3,y_max-1e-3,total_points).requires_grad_(True).to(device).to(torch.float64)\n",
        "\n",
        "x_collo, y_collo, t_collo = torch.meshgrid(x_collo, y_collo, t_sens_ff.squeeze())\n",
        "x_collo = torch.reshape(x_collo, (-1, 1)).to(device)\n",
        "y_collo = torch.reshape(y_collo, (-1, 1)).to(device)\n",
        "t_collo = torch.reshape(t_collo, (-1, 1)).to(device)\n",
        "\n",
        "x_collo.shape , y_collo.shape , t_collo.shape"
      ]
    },
    {
      "cell_type": "code",
      "execution_count": null,
      "metadata": {
        "colab": {
          "base_uri": "https://localhost:8080/"
        },
        "id": "QWXigCNY_vu7",
        "outputId": "b636ef95-0e07-41c2-e724-52bf4a993877"
      },
      "outputs": [
        {
          "output_type": "stream",
          "name": "stdout",
          "text": [
            "PINN_Net(\n",
            "  (base): Sequential(\n",
            "    (0linear): Linear(in_features=3, out_features=20, bias=True)\n",
            "    (0Activation): Tanh()\n",
            "    (1linear): Linear(in_features=20, out_features=20, bias=True)\n",
            "    (1Activation): Tanh()\n",
            "    (2linear): Linear(in_features=20, out_features=1, bias=True)\n",
            "  )\n",
            ")\n"
          ]
        }
      ],
      "source": [
        "#Network's parameters\n",
        "torch.manual_seed(seed)\n",
        "\n",
        "layers = [3, 20, 20, 1]\n",
        "# lr = 1e-4\n",
        "# n_epochs = 5000\n",
        "PINN = PINN_Net(layers)\n",
        "PINN.to(device)\n",
        "print(PINN)\n",
        "params = list(PINN.parameters())\n",
        "# optimizer = torch.optim.Adam(PINN.parameters(),lr=lr)"
      ]
    },
    {
      "cell_type": "code",
      "source": [
        "for p in params:\n",
        "  print(p.dtype)"
      ],
      "metadata": {
        "id": "Liv2HSgGBH_F",
        "colab": {
          "base_uri": "https://localhost:8080/"
        },
        "outputId": "965a48d8-4e25-4083-db97-8ef8ff232541"
      },
      "execution_count": null,
      "outputs": [
        {
          "output_type": "stream",
          "name": "stdout",
          "text": [
            "torch.float32\n",
            "torch.float32\n",
            "torch.float32\n",
            "torch.float32\n",
            "torch.float32\n",
            "torch.float32\n"
          ]
        }
      ]
    },
    {
      "cell_type": "code",
      "execution_count": null,
      "metadata": {
        "id": "81NafgWAQ7PF"
      },
      "outputs": [],
      "source": [
        "# torch.manual_seed(seed)\n",
        "\n",
        "# loss_list = []\n",
        "# print(\"Training Loss-----Test Loss\")\n",
        "# for i in range(n_epochs):\n",
        "#     print('epoch: ', i+1)\n",
        "#     loss = PINN.total_loss(x_bc.to(torch.float32), y_bc.to(torch.float32), t_bc.to(torch.float32), u_bc.to(torch.float32),\n",
        "#                           v_bc.to(torch.float32), x_sens_ff.to(torch.float32), y_sens_ff.to(torch.float32), t_sens_ff.to(torch.float32), u_sens.to(torch.float32), v_sens.to(torch.float32))\n",
        "#     optimizer.zero_grad()\n",
        "#     loss.backward(retain_graph=True)\n",
        "#     optimizer.step()\n",
        "\n",
        "#     # if i%(steps/10)==0:\n",
        "#     #   with torch.no_grad():\n",
        "#     #     test_loss=PINN.lossBC(x, y, t, u, v)\n",
        "\n",
        "#     print('train loss :', loss.detach().cpu().numpy())\n",
        "#     loss_list.append(loss.detach().cpu().numpy())\n",
        "\n",
        "# plt.plot(loss_list)"
      ]
    },
    {
      "cell_type": "code",
      "source": [
        "x_bc.to(torch.float64).dtype"
      ],
      "metadata": {
        "id": "I_5VD7m0Ev5z"
      },
      "execution_count": null,
      "outputs": []
    },
    {
      "cell_type": "code",
      "source": [
        "torch.manual_seed(seed)\n",
        "iter = 0\n",
        "\n",
        "# Initialize the optimizer\n",
        "optimizer = torch.optim.LBFGS(PINN.parameters(),\n",
        "                                lr=1,\n",
        "                                max_iter=1000,\n",
        "                                max_eval=10000,\n",
        "                                history_size=100,\n",
        "                                tolerance_grad=1e-05,\n",
        "                                tolerance_change=0.5 * np.finfo(float).eps,\n",
        "                                line_search_fn=\"strong_wolfe\")\n",
        "\n",
        "def closure():\n",
        "    optimizer.zero_grad()\n",
        "    # x_bc, y_bc, t_bc, u_bc, v_bc = x_bc.to(device), y_bc.to(device), t_bc.to(device), u_bc.to(device), v_bc.to(device)\n",
        "    # x_collo, y_collo, t_collo = x_collo.to(device), y_collo.to(device), t_collo.to(device)\n",
        "    # x_rightbc, y_rightbc, t_rightbc, p_rightbc = x_rightbc.to(device), y_rightbc.to(device), t_rightbc.to(device), p_rightbc.to(device)\n",
        "    loss = PINN.total_loss(x_bc.to(torch.float32), y_bc.to(torch.float32), t_bc.to(torch.float32), u_bc.to(torch.float32),\n",
        "                           v_bc.to(torch.float32), x_sens_ff.to(torch.float32), y_sens_ff.to(torch.float32), t_sens_ff.to(torch.float32), u_sens.to(torch.float32), v_sens.to(torch.float32))\n",
        "    loss.backward(retain_graph=True)\n",
        "    global iter\n",
        "    iter += 1\n",
        "    print(f\" iteration: {iter}  loss: {loss.item()}\")\n",
        "    return loss\n",
        "\n",
        "\n",
        "\n",
        "\n",
        "# the optimizer.step requires the closure function to be a callable function without inputs\n",
        "# therefore we need to define a partial function and pass it to the optimizer\n",
        "# closure_fn = partial(closure, PINN, optimizer,  x_bc, y_bc, t_bc, u_bc, v_bc, x_collo, y_collo, t_collo, x_rightbc, y_rightbc, t_rightbc, p_rightbc)\n",
        "optimizer.step(closure)"
      ],
      "metadata": {
        "colab": {
          "base_uri": "https://localhost:8080/",
          "height": 459
        },
        "id": "VSWVF4ir1Ltu",
        "outputId": "b849d351-5b05-4b59-f1f5-0da7980980fa"
      },
      "execution_count": null,
      "outputs": [
        {
          "output_type": "stream",
          "name": "stdout",
          "text": [
            " iteration: 1  loss: 1.7567765712738037\n"
          ]
        },
        {
          "output_type": "error",
          "ename": "OutOfMemoryError",
          "evalue": "ignored",
          "traceback": [
            "\u001b[0;31m---------------------------------------------------------------------------\u001b[0m",
            "\u001b[0;31mOutOfMemoryError\u001b[0m                          Traceback (most recent call last)",
            "\u001b[0;32m<ipython-input-16-e112dec4abf6>\u001b[0m in \u001b[0;36m<cell line: 33>\u001b[0;34m()\u001b[0m\n\u001b[1;32m     31\u001b[0m \u001b[0;31m# therefore we need to define a partial function and pass it to the optimizer\u001b[0m\u001b[0;34m\u001b[0m\u001b[0;34m\u001b[0m\u001b[0m\n\u001b[1;32m     32\u001b[0m \u001b[0;31m# closure_fn = partial(closure, PINN, optimizer,  x_bc, y_bc, t_bc, u_bc, v_bc, x_collo, y_collo, t_collo, x_rightbc, y_rightbc, t_rightbc, p_rightbc)\u001b[0m\u001b[0;34m\u001b[0m\u001b[0;34m\u001b[0m\u001b[0m\n\u001b[0;32m---> 33\u001b[0;31m \u001b[0moptimizer\u001b[0m\u001b[0;34m.\u001b[0m\u001b[0mstep\u001b[0m\u001b[0;34m(\u001b[0m\u001b[0mclosure\u001b[0m\u001b[0;34m)\u001b[0m\u001b[0;34m\u001b[0m\u001b[0;34m\u001b[0m\u001b[0m\n\u001b[0m",
            "\u001b[0;32m/usr/local/lib/python3.10/dist-packages/torch/optim/optimizer.py\u001b[0m in \u001b[0;36mwrapper\u001b[0;34m(*args, **kwargs)\u001b[0m\n\u001b[1;32m    278\u001b[0m                                                f\"but got {result}.\")\n\u001b[1;32m    279\u001b[0m \u001b[0;34m\u001b[0m\u001b[0m\n\u001b[0;32m--> 280\u001b[0;31m                 \u001b[0mout\u001b[0m \u001b[0;34m=\u001b[0m \u001b[0mfunc\u001b[0m\u001b[0;34m(\u001b[0m\u001b[0;34m*\u001b[0m\u001b[0margs\u001b[0m\u001b[0;34m,\u001b[0m \u001b[0;34m**\u001b[0m\u001b[0mkwargs\u001b[0m\u001b[0;34m)\u001b[0m\u001b[0;34m\u001b[0m\u001b[0;34m\u001b[0m\u001b[0m\n\u001b[0m\u001b[1;32m    281\u001b[0m                 \u001b[0mself\u001b[0m\u001b[0;34m.\u001b[0m\u001b[0m_optimizer_step_code\u001b[0m\u001b[0;34m(\u001b[0m\u001b[0;34m)\u001b[0m\u001b[0;34m\u001b[0m\u001b[0;34m\u001b[0m\u001b[0m\n\u001b[1;32m    282\u001b[0m \u001b[0;34m\u001b[0m\u001b[0m\n",
            "\u001b[0;32m/usr/local/lib/python3.10/dist-packages/torch/utils/_contextlib.py\u001b[0m in \u001b[0;36mdecorate_context\u001b[0;34m(*args, **kwargs)\u001b[0m\n\u001b[1;32m    113\u001b[0m     \u001b[0;32mdef\u001b[0m \u001b[0mdecorate_context\u001b[0m\u001b[0;34m(\u001b[0m\u001b[0;34m*\u001b[0m\u001b[0margs\u001b[0m\u001b[0;34m,\u001b[0m \u001b[0;34m**\u001b[0m\u001b[0mkwargs\u001b[0m\u001b[0;34m)\u001b[0m\u001b[0;34m:\u001b[0m\u001b[0;34m\u001b[0m\u001b[0;34m\u001b[0m\u001b[0m\n\u001b[1;32m    114\u001b[0m         \u001b[0;32mwith\u001b[0m \u001b[0mctx_factory\u001b[0m\u001b[0;34m(\u001b[0m\u001b[0;34m)\u001b[0m\u001b[0;34m:\u001b[0m\u001b[0;34m\u001b[0m\u001b[0;34m\u001b[0m\u001b[0m\n\u001b[0;32m--> 115\u001b[0;31m             \u001b[0;32mreturn\u001b[0m \u001b[0mfunc\u001b[0m\u001b[0;34m(\u001b[0m\u001b[0;34m*\u001b[0m\u001b[0margs\u001b[0m\u001b[0;34m,\u001b[0m \u001b[0;34m**\u001b[0m\u001b[0mkwargs\u001b[0m\u001b[0;34m)\u001b[0m\u001b[0;34m\u001b[0m\u001b[0;34m\u001b[0m\u001b[0m\n\u001b[0m\u001b[1;32m    116\u001b[0m \u001b[0;34m\u001b[0m\u001b[0m\n\u001b[1;32m    117\u001b[0m     \u001b[0;32mreturn\u001b[0m \u001b[0mdecorate_context\u001b[0m\u001b[0;34m\u001b[0m\u001b[0;34m\u001b[0m\u001b[0m\n",
            "\u001b[0;32m/usr/local/lib/python3.10/dist-packages/torch/optim/lbfgs.py\u001b[0m in \u001b[0;36mstep\u001b[0;34m(self, closure)\u001b[0m\n\u001b[1;32m    424\u001b[0m                         \u001b[0;32mreturn\u001b[0m \u001b[0mself\u001b[0m\u001b[0;34m.\u001b[0m\u001b[0m_directional_evaluate\u001b[0m\u001b[0;34m(\u001b[0m\u001b[0mclosure\u001b[0m\u001b[0;34m,\u001b[0m \u001b[0mx\u001b[0m\u001b[0;34m,\u001b[0m \u001b[0mt\u001b[0m\u001b[0;34m,\u001b[0m \u001b[0md\u001b[0m\u001b[0;34m)\u001b[0m\u001b[0;34m\u001b[0m\u001b[0;34m\u001b[0m\u001b[0m\n\u001b[1;32m    425\u001b[0m \u001b[0;34m\u001b[0m\u001b[0m\n\u001b[0;32m--> 426\u001b[0;31m                     loss, flat_grad, t, ls_func_evals = _strong_wolfe(\n\u001b[0m\u001b[1;32m    427\u001b[0m                         obj_func, x_init, t, d, loss, flat_grad, gtd)\n\u001b[1;32m    428\u001b[0m                 \u001b[0mself\u001b[0m\u001b[0;34m.\u001b[0m\u001b[0m_add_grad\u001b[0m\u001b[0;34m(\u001b[0m\u001b[0mt\u001b[0m\u001b[0;34m,\u001b[0m \u001b[0md\u001b[0m\u001b[0;34m)\u001b[0m\u001b[0;34m\u001b[0m\u001b[0;34m\u001b[0m\u001b[0m\n",
            "\u001b[0;32m/usr/local/lib/python3.10/dist-packages/torch/optim/lbfgs.py\u001b[0m in \u001b[0;36m_strong_wolfe\u001b[0;34m(obj_func, x, t, d, f, g, gtd, c1, c2, tolerance_change, max_ls)\u001b[0m\n\u001b[1;32m     48\u001b[0m     \u001b[0mg\u001b[0m \u001b[0;34m=\u001b[0m \u001b[0mg\u001b[0m\u001b[0;34m.\u001b[0m\u001b[0mclone\u001b[0m\u001b[0;34m(\u001b[0m\u001b[0mmemory_format\u001b[0m\u001b[0;34m=\u001b[0m\u001b[0mtorch\u001b[0m\u001b[0;34m.\u001b[0m\u001b[0mcontiguous_format\u001b[0m\u001b[0;34m)\u001b[0m\u001b[0;34m\u001b[0m\u001b[0;34m\u001b[0m\u001b[0m\n\u001b[1;32m     49\u001b[0m     \u001b[0;31m# evaluate objective and gradient using initial step\u001b[0m\u001b[0;34m\u001b[0m\u001b[0;34m\u001b[0m\u001b[0m\n\u001b[0;32m---> 50\u001b[0;31m     \u001b[0mf_new\u001b[0m\u001b[0;34m,\u001b[0m \u001b[0mg_new\u001b[0m \u001b[0;34m=\u001b[0m \u001b[0mobj_func\u001b[0m\u001b[0;34m(\u001b[0m\u001b[0mx\u001b[0m\u001b[0;34m,\u001b[0m \u001b[0mt\u001b[0m\u001b[0;34m,\u001b[0m \u001b[0md\u001b[0m\u001b[0;34m)\u001b[0m\u001b[0;34m\u001b[0m\u001b[0;34m\u001b[0m\u001b[0m\n\u001b[0m\u001b[1;32m     51\u001b[0m     \u001b[0mls_func_evals\u001b[0m \u001b[0;34m=\u001b[0m \u001b[0;36m1\u001b[0m\u001b[0;34m\u001b[0m\u001b[0;34m\u001b[0m\u001b[0m\n\u001b[1;32m     52\u001b[0m     \u001b[0mgtd_new\u001b[0m \u001b[0;34m=\u001b[0m \u001b[0mg_new\u001b[0m\u001b[0;34m.\u001b[0m\u001b[0mdot\u001b[0m\u001b[0;34m(\u001b[0m\u001b[0md\u001b[0m\u001b[0;34m)\u001b[0m\u001b[0;34m\u001b[0m\u001b[0;34m\u001b[0m\u001b[0m\n",
            "\u001b[0;32m/usr/local/lib/python3.10/dist-packages/torch/optim/lbfgs.py\u001b[0m in \u001b[0;36mobj_func\u001b[0;34m(x, t, d)\u001b[0m\n\u001b[1;32m    422\u001b[0m \u001b[0;34m\u001b[0m\u001b[0m\n\u001b[1;32m    423\u001b[0m                     \u001b[0;32mdef\u001b[0m \u001b[0mobj_func\u001b[0m\u001b[0;34m(\u001b[0m\u001b[0mx\u001b[0m\u001b[0;34m,\u001b[0m \u001b[0mt\u001b[0m\u001b[0;34m,\u001b[0m \u001b[0md\u001b[0m\u001b[0;34m)\u001b[0m\u001b[0;34m:\u001b[0m\u001b[0;34m\u001b[0m\u001b[0;34m\u001b[0m\u001b[0m\n\u001b[0;32m--> 424\u001b[0;31m                         \u001b[0;32mreturn\u001b[0m \u001b[0mself\u001b[0m\u001b[0;34m.\u001b[0m\u001b[0m_directional_evaluate\u001b[0m\u001b[0;34m(\u001b[0m\u001b[0mclosure\u001b[0m\u001b[0;34m,\u001b[0m \u001b[0mx\u001b[0m\u001b[0;34m,\u001b[0m \u001b[0mt\u001b[0m\u001b[0;34m,\u001b[0m \u001b[0md\u001b[0m\u001b[0;34m)\u001b[0m\u001b[0;34m\u001b[0m\u001b[0;34m\u001b[0m\u001b[0m\n\u001b[0m\u001b[1;32m    425\u001b[0m \u001b[0;34m\u001b[0m\u001b[0m\n\u001b[1;32m    426\u001b[0m                     loss, flat_grad, t, ls_func_evals = _strong_wolfe(\n",
            "\u001b[0;32m/usr/local/lib/python3.10/dist-packages/torch/optim/lbfgs.py\u001b[0m in \u001b[0;36m_directional_evaluate\u001b[0;34m(self, closure, x, t, d)\u001b[0m\n\u001b[1;32m    276\u001b[0m     \u001b[0;32mdef\u001b[0m \u001b[0m_directional_evaluate\u001b[0m\u001b[0;34m(\u001b[0m\u001b[0mself\u001b[0m\u001b[0;34m,\u001b[0m \u001b[0mclosure\u001b[0m\u001b[0;34m,\u001b[0m \u001b[0mx\u001b[0m\u001b[0;34m,\u001b[0m \u001b[0mt\u001b[0m\u001b[0;34m,\u001b[0m \u001b[0md\u001b[0m\u001b[0;34m)\u001b[0m\u001b[0;34m:\u001b[0m\u001b[0;34m\u001b[0m\u001b[0;34m\u001b[0m\u001b[0m\n\u001b[1;32m    277\u001b[0m         \u001b[0mself\u001b[0m\u001b[0;34m.\u001b[0m\u001b[0m_add_grad\u001b[0m\u001b[0;34m(\u001b[0m\u001b[0mt\u001b[0m\u001b[0;34m,\u001b[0m \u001b[0md\u001b[0m\u001b[0;34m)\u001b[0m\u001b[0;34m\u001b[0m\u001b[0;34m\u001b[0m\u001b[0m\n\u001b[0;32m--> 278\u001b[0;31m         \u001b[0mloss\u001b[0m \u001b[0;34m=\u001b[0m \u001b[0mfloat\u001b[0m\u001b[0;34m(\u001b[0m\u001b[0mclosure\u001b[0m\u001b[0;34m(\u001b[0m\u001b[0;34m)\u001b[0m\u001b[0;34m)\u001b[0m\u001b[0;34m\u001b[0m\u001b[0;34m\u001b[0m\u001b[0m\n\u001b[0m\u001b[1;32m    279\u001b[0m         \u001b[0mflat_grad\u001b[0m \u001b[0;34m=\u001b[0m \u001b[0mself\u001b[0m\u001b[0;34m.\u001b[0m\u001b[0m_gather_flat_grad\u001b[0m\u001b[0;34m(\u001b[0m\u001b[0;34m)\u001b[0m\u001b[0;34m\u001b[0m\u001b[0;34m\u001b[0m\u001b[0m\n\u001b[1;32m    280\u001b[0m         \u001b[0mself\u001b[0m\u001b[0;34m.\u001b[0m\u001b[0m_set_param\u001b[0m\u001b[0;34m(\u001b[0m\u001b[0mx\u001b[0m\u001b[0;34m)\u001b[0m\u001b[0;34m\u001b[0m\u001b[0;34m\u001b[0m\u001b[0m\n",
            "\u001b[0;32m/usr/local/lib/python3.10/dist-packages/torch/utils/_contextlib.py\u001b[0m in \u001b[0;36mdecorate_context\u001b[0;34m(*args, **kwargs)\u001b[0m\n\u001b[1;32m    113\u001b[0m     \u001b[0;32mdef\u001b[0m \u001b[0mdecorate_context\u001b[0m\u001b[0;34m(\u001b[0m\u001b[0;34m*\u001b[0m\u001b[0margs\u001b[0m\u001b[0;34m,\u001b[0m \u001b[0;34m**\u001b[0m\u001b[0mkwargs\u001b[0m\u001b[0;34m)\u001b[0m\u001b[0;34m:\u001b[0m\u001b[0;34m\u001b[0m\u001b[0;34m\u001b[0m\u001b[0m\n\u001b[1;32m    114\u001b[0m         \u001b[0;32mwith\u001b[0m \u001b[0mctx_factory\u001b[0m\u001b[0;34m(\u001b[0m\u001b[0;34m)\u001b[0m\u001b[0;34m:\u001b[0m\u001b[0;34m\u001b[0m\u001b[0;34m\u001b[0m\u001b[0m\n\u001b[0;32m--> 115\u001b[0;31m             \u001b[0;32mreturn\u001b[0m \u001b[0mfunc\u001b[0m\u001b[0;34m(\u001b[0m\u001b[0;34m*\u001b[0m\u001b[0margs\u001b[0m\u001b[0;34m,\u001b[0m \u001b[0;34m**\u001b[0m\u001b[0mkwargs\u001b[0m\u001b[0;34m)\u001b[0m\u001b[0;34m\u001b[0m\u001b[0;34m\u001b[0m\u001b[0m\n\u001b[0m\u001b[1;32m    116\u001b[0m \u001b[0;34m\u001b[0m\u001b[0m\n\u001b[1;32m    117\u001b[0m     \u001b[0;32mreturn\u001b[0m \u001b[0mdecorate_context\u001b[0m\u001b[0;34m\u001b[0m\u001b[0;34m\u001b[0m\u001b[0m\n",
            "\u001b[0;32m<ipython-input-16-e112dec4abf6>\u001b[0m in \u001b[0;36mclosure\u001b[0;34m()\u001b[0m\n\u001b[1;32m     17\u001b[0m     \u001b[0;31m# x_collo, y_collo, t_collo = x_collo.to(device), y_collo.to(device), t_collo.to(device)\u001b[0m\u001b[0;34m\u001b[0m\u001b[0;34m\u001b[0m\u001b[0m\n\u001b[1;32m     18\u001b[0m     \u001b[0;31m# x_rightbc, y_rightbc, t_rightbc, p_rightbc = x_rightbc.to(device), y_rightbc.to(device), t_rightbc.to(device), p_rightbc.to(device)\u001b[0m\u001b[0;34m\u001b[0m\u001b[0;34m\u001b[0m\u001b[0m\n\u001b[0;32m---> 19\u001b[0;31m     loss = PINN.total_loss(x_bc.to(torch.float32), y_bc.to(torch.float32), t_bc.to(torch.float32), u_bc.to(torch.float32),\n\u001b[0m\u001b[1;32m     20\u001b[0m                            v_bc.to(torch.float32), x_sens_ff.to(torch.float32), y_sens_ff.to(torch.float32), t_sens_ff.to(torch.float32), u_sens.to(torch.float32), v_sens.to(torch.float32))\n\u001b[1;32m     21\u001b[0m     \u001b[0mloss\u001b[0m\u001b[0;34m.\u001b[0m\u001b[0mbackward\u001b[0m\u001b[0;34m(\u001b[0m\u001b[0mretain_graph\u001b[0m\u001b[0;34m=\u001b[0m\u001b[0;32mTrue\u001b[0m\u001b[0;34m)\u001b[0m\u001b[0;34m\u001b[0m\u001b[0;34m\u001b[0m\u001b[0m\n",
            "\u001b[0;32m<ipython-input-5-874a3e494eb9>\u001b[0m in \u001b[0;36mtotal_loss\u001b[0;34m(self, x_bc, y_bc, t_bc, u_bc, v_bc, x_sens, y_sens, t_sens, u_sens, v_sens)\u001b[0m\n\u001b[1;32m     78\u001b[0m \u001b[0;34m\u001b[0m\u001b[0m\n\u001b[1;32m     79\u001b[0m     \u001b[0;32mdef\u001b[0m \u001b[0mtotal_loss\u001b[0m\u001b[0;34m(\u001b[0m\u001b[0mself\u001b[0m\u001b[0;34m,\u001b[0m \u001b[0mx_bc\u001b[0m\u001b[0;34m,\u001b[0m \u001b[0my_bc\u001b[0m\u001b[0;34m,\u001b[0m \u001b[0mt_bc\u001b[0m\u001b[0;34m,\u001b[0m \u001b[0mu_bc\u001b[0m\u001b[0;34m,\u001b[0m \u001b[0mv_bc\u001b[0m\u001b[0;34m,\u001b[0m \u001b[0mx_sens\u001b[0m\u001b[0;34m,\u001b[0m \u001b[0my_sens\u001b[0m\u001b[0;34m,\u001b[0m \u001b[0mt_sens\u001b[0m\u001b[0;34m,\u001b[0m \u001b[0mu_sens\u001b[0m\u001b[0;34m,\u001b[0m \u001b[0mv_sens\u001b[0m\u001b[0;34m)\u001b[0m\u001b[0;34m:\u001b[0m\u001b[0;34m\u001b[0m\u001b[0;34m\u001b[0m\u001b[0m\n\u001b[0;32m---> 80\u001b[0;31m          \u001b[0moutput\u001b[0m \u001b[0;34m=\u001b[0m \u001b[0mself\u001b[0m\u001b[0;34m.\u001b[0m\u001b[0mBC_loss_velocity\u001b[0m\u001b[0;34m(\u001b[0m\u001b[0mx_bc\u001b[0m\u001b[0;34m,\u001b[0m \u001b[0my_bc\u001b[0m\u001b[0;34m,\u001b[0m \u001b[0mt_bc\u001b[0m\u001b[0;34m,\u001b[0m \u001b[0mu_bc\u001b[0m\u001b[0;34m,\u001b[0m \u001b[0mv_bc\u001b[0m\u001b[0;34m)\u001b[0m \u001b[0;34m+\u001b[0m \u001b[0mself\u001b[0m\u001b[0;34m.\u001b[0m\u001b[0mPDE_loss\u001b[0m\u001b[0;34m(\u001b[0m\u001b[0mx_bc\u001b[0m\u001b[0;34m,\u001b[0m \u001b[0my_bc\u001b[0m\u001b[0;34m,\u001b[0m \u001b[0mt_bc\u001b[0m\u001b[0;34m,\u001b[0m \u001b[0mRe\u001b[0m\u001b[0;34m)\u001b[0m \u001b[0;34m+\u001b[0m \u001b[0mself\u001b[0m\u001b[0;34m.\u001b[0m\u001b[0mPDE_loss\u001b[0m\u001b[0;34m(\u001b[0m\u001b[0mx_sens\u001b[0m\u001b[0;34m,\u001b[0m \u001b[0my_sens\u001b[0m\u001b[0;34m,\u001b[0m \u001b[0mt_sens\u001b[0m\u001b[0;34m,\u001b[0m \u001b[0mRe\u001b[0m\u001b[0;34m)\u001b[0m \u001b[0;34m+\u001b[0m \u001b[0mself\u001b[0m\u001b[0;34m.\u001b[0m\u001b[0mloss_reference\u001b[0m\u001b[0;34m(\u001b[0m\u001b[0mx_sens\u001b[0m\u001b[0;34m,\u001b[0m\u001b[0my_sens\u001b[0m\u001b[0;34m,\u001b[0m\u001b[0mt_sens\u001b[0m\u001b[0;34m,\u001b[0m\u001b[0mu_sens\u001b[0m\u001b[0;34m,\u001b[0m\u001b[0mv_sens\u001b[0m\u001b[0;34m)\u001b[0m\u001b[0;34m\u001b[0m\u001b[0;34m\u001b[0m\u001b[0m\n\u001b[0m\u001b[1;32m     81\u001b[0m          \u001b[0;31m#print('loss type: ', output.dtype)\u001b[0m\u001b[0;34m\u001b[0m\u001b[0;34m\u001b[0m\u001b[0m\n\u001b[1;32m     82\u001b[0m          \u001b[0;32mreturn\u001b[0m \u001b[0moutput\u001b[0m\u001b[0;34m\u001b[0m\u001b[0;34m\u001b[0m\u001b[0m\n",
            "\u001b[0;32m<ipython-input-5-874a3e494eb9>\u001b[0m in \u001b[0;36mPDE_loss\u001b[0;34m(self, x, y, t, Re)\u001b[0m\n\u001b[1;32m     64\u001b[0m         \u001b[0mpsi_yyyy\u001b[0m \u001b[0;34m=\u001b[0m \u001b[0mtorch\u001b[0m\u001b[0;34m.\u001b[0m\u001b[0mautograd\u001b[0m\u001b[0;34m.\u001b[0m\u001b[0mgrad\u001b[0m\u001b[0;34m(\u001b[0m\u001b[0mpsi_yyy\u001b[0m\u001b[0;34m.\u001b[0m\u001b[0msum\u001b[0m\u001b[0;34m(\u001b[0m\u001b[0;34m)\u001b[0m\u001b[0;34m,\u001b[0m \u001b[0my\u001b[0m\u001b[0;34m,\u001b[0m \u001b[0mcreate_graph\u001b[0m\u001b[0;34m=\u001b[0m\u001b[0;32mTrue\u001b[0m\u001b[0;34m,\u001b[0m \u001b[0mretain_graph\u001b[0m\u001b[0;34m=\u001b[0m\u001b[0;32mTrue\u001b[0m\u001b[0;34m)\u001b[0m\u001b[0;34m[\u001b[0m\u001b[0;36m0\u001b[0m\u001b[0;34m]\u001b[0m\u001b[0;34m\u001b[0m\u001b[0;34m\u001b[0m\u001b[0m\n\u001b[1;32m     65\u001b[0m         \u001b[0mpsi_xxy\u001b[0m \u001b[0;34m=\u001b[0m \u001b[0mtorch\u001b[0m\u001b[0;34m.\u001b[0m\u001b[0mautograd\u001b[0m\u001b[0;34m.\u001b[0m\u001b[0mgrad\u001b[0m\u001b[0;34m(\u001b[0m\u001b[0mpsi_xx\u001b[0m\u001b[0;34m.\u001b[0m\u001b[0msum\u001b[0m\u001b[0;34m(\u001b[0m\u001b[0;34m)\u001b[0m\u001b[0;34m,\u001b[0m \u001b[0my\u001b[0m\u001b[0;34m,\u001b[0m \u001b[0mcreate_graph\u001b[0m\u001b[0;34m=\u001b[0m\u001b[0;32mTrue\u001b[0m\u001b[0;34m,\u001b[0m \u001b[0mretain_graph\u001b[0m\u001b[0;34m=\u001b[0m\u001b[0;32mTrue\u001b[0m\u001b[0;34m)\u001b[0m\u001b[0;34m[\u001b[0m\u001b[0;36m0\u001b[0m\u001b[0;34m]\u001b[0m\u001b[0;34m\u001b[0m\u001b[0;34m\u001b[0m\u001b[0m\n\u001b[0;32m---> 66\u001b[0;31m         \u001b[0mpsi_xxyy\u001b[0m \u001b[0;34m=\u001b[0m \u001b[0mtorch\u001b[0m\u001b[0;34m.\u001b[0m\u001b[0mautograd\u001b[0m\u001b[0;34m.\u001b[0m\u001b[0mgrad\u001b[0m\u001b[0;34m(\u001b[0m\u001b[0mpsi_xxy\u001b[0m\u001b[0;34m.\u001b[0m\u001b[0msum\u001b[0m\u001b[0;34m(\u001b[0m\u001b[0;34m)\u001b[0m\u001b[0;34m,\u001b[0m \u001b[0my\u001b[0m\u001b[0;34m,\u001b[0m \u001b[0mcreate_graph\u001b[0m\u001b[0;34m=\u001b[0m\u001b[0;32mTrue\u001b[0m\u001b[0;34m,\u001b[0m \u001b[0mretain_graph\u001b[0m\u001b[0;34m=\u001b[0m\u001b[0;32mTrue\u001b[0m\u001b[0;34m)\u001b[0m\u001b[0;34m[\u001b[0m\u001b[0;36m0\u001b[0m\u001b[0;34m]\u001b[0m\u001b[0;34m\u001b[0m\u001b[0;34m\u001b[0m\u001b[0m\n\u001b[0m\u001b[1;32m     67\u001b[0m         \u001b[0mLaplacian_psi\u001b[0m \u001b[0;34m=\u001b[0m \u001b[0mpsi_xx\u001b[0m \u001b[0;34m+\u001b[0m \u001b[0mpsi_yy\u001b[0m\u001b[0;34m\u001b[0m\u001b[0;34m\u001b[0m\u001b[0m\n\u001b[1;32m     68\u001b[0m         \u001b[0mdLaplacian_dt\u001b[0m \u001b[0;34m=\u001b[0m \u001b[0mtorch\u001b[0m\u001b[0;34m.\u001b[0m\u001b[0mautograd\u001b[0m\u001b[0;34m.\u001b[0m\u001b[0mgrad\u001b[0m\u001b[0;34m(\u001b[0m\u001b[0mLaplacian_psi\u001b[0m\u001b[0;34m.\u001b[0m\u001b[0msum\u001b[0m\u001b[0;34m(\u001b[0m\u001b[0;34m)\u001b[0m\u001b[0;34m,\u001b[0m \u001b[0mt\u001b[0m\u001b[0;34m,\u001b[0m \u001b[0mcreate_graph\u001b[0m\u001b[0;34m=\u001b[0m\u001b[0;32mTrue\u001b[0m\u001b[0;34m,\u001b[0m \u001b[0mretain_graph\u001b[0m\u001b[0;34m=\u001b[0m\u001b[0;32mTrue\u001b[0m\u001b[0;34m)\u001b[0m\u001b[0;34m[\u001b[0m\u001b[0;36m0\u001b[0m\u001b[0;34m]\u001b[0m\u001b[0;34m\u001b[0m\u001b[0;34m\u001b[0m\u001b[0m\n",
            "\u001b[0;32m/usr/local/lib/python3.10/dist-packages/torch/autograd/__init__.py\u001b[0m in \u001b[0;36mgrad\u001b[0;34m(outputs, inputs, grad_outputs, retain_graph, create_graph, only_inputs, allow_unused, is_grads_batched)\u001b[0m\n\u001b[1;32m    301\u001b[0m         \u001b[0;32mreturn\u001b[0m \u001b[0m_vmap_internals\u001b[0m\u001b[0;34m.\u001b[0m\u001b[0m_vmap\u001b[0m\u001b[0;34m(\u001b[0m\u001b[0mvjp\u001b[0m\u001b[0;34m,\u001b[0m \u001b[0;36m0\u001b[0m\u001b[0;34m,\u001b[0m \u001b[0;36m0\u001b[0m\u001b[0;34m,\u001b[0m \u001b[0mallow_none_pass_through\u001b[0m\u001b[0;34m=\u001b[0m\u001b[0;32mTrue\u001b[0m\u001b[0;34m)\u001b[0m\u001b[0;34m(\u001b[0m\u001b[0mgrad_outputs_\u001b[0m\u001b[0;34m)\u001b[0m\u001b[0;34m\u001b[0m\u001b[0;34m\u001b[0m\u001b[0m\n\u001b[1;32m    302\u001b[0m     \u001b[0;32melse\u001b[0m\u001b[0;34m:\u001b[0m\u001b[0;34m\u001b[0m\u001b[0;34m\u001b[0m\u001b[0m\n\u001b[0;32m--> 303\u001b[0;31m         return Variable._execution_engine.run_backward(  # Calls into the C++ engine to run the backward pass\n\u001b[0m\u001b[1;32m    304\u001b[0m             \u001b[0mt_outputs\u001b[0m\u001b[0;34m,\u001b[0m \u001b[0mgrad_outputs_\u001b[0m\u001b[0;34m,\u001b[0m \u001b[0mretain_graph\u001b[0m\u001b[0;34m,\u001b[0m \u001b[0mcreate_graph\u001b[0m\u001b[0;34m,\u001b[0m \u001b[0mt_inputs\u001b[0m\u001b[0;34m,\u001b[0m\u001b[0;34m\u001b[0m\u001b[0;34m\u001b[0m\u001b[0m\n\u001b[1;32m    305\u001b[0m             allow_unused, accumulate_grad=False)  # Calls into the C++ engine to run the backward pass\n",
            "\u001b[0;31mOutOfMemoryError\u001b[0m: CUDA out of memory. Tried to allocate 24.00 MiB (GPU 0; 14.75 GiB total capacity; 13.28 GiB already allocated; 22.81 MiB free; 13.95 GiB reserved in total by PyTorch) If reserved memory is >> allocated memory try setting max_split_size_mb to avoid fragmentation.  See documentation for Memory Management and PYTORCH_CUDA_ALLOC_CONF"
          ]
        }
      ]
    },
    {
      "cell_type": "code",
      "source": [
        "torch.save(PINN.state_dict(), '/content/drive/My Drive/modified_ns.pth')"
      ],
      "metadata": {
        "id": "xWuwwJx8VJpy"
      },
      "execution_count": null,
      "outputs": []
    },
    {
      "cell_type": "code",
      "source": [
        "torch.save(PINN.state_dict(), '/content/drive/My Drive/modified_ns.ckpt')"
      ],
      "metadata": {
        "id": "GQ4hvLOhXJpl"
      },
      "execution_count": null,
      "outputs": []
    },
    {
      "cell_type": "code",
      "source": [],
      "metadata": {
        "id": "rRdI4oltVJ0t"
      },
      "execution_count": null,
      "outputs": []
    },
    {
      "cell_type": "code",
      "source": [],
      "metadata": {
        "id": "CPgcIVok1Lwm"
      },
      "execution_count": null,
      "outputs": []
    },
    {
      "cell_type": "code",
      "execution_count": null,
      "metadata": {
        "colab": {
          "base_uri": "https://localhost:8080/"
        },
        "id": "dRwXTT_ia8c0",
        "outputId": "87e6557c-9e2c-4506-e343-3f499077d028"
      },
      "outputs": [
        {
          "output_type": "execute_result",
          "data": {
            "text/plain": [
              "(torch.Size([10000, 1]), torch.Size([10000, 1]), torch.Size([10000, 1]))"
            ]
          },
          "metadata": {},
          "execution_count": 40
        }
      ],
      "source": [
        "t_test = torch.linspace(2, 2,1).requires_grad_(True)\n",
        "x_test = torch.linspace(x_min+1e-3,x_max-1e-3,total_points).requires_grad_(True)\n",
        "y_test = torch.linspace(y_min+1e-3,y_max-1e-3,total_points).requires_grad_(True)\n",
        "\n",
        "x_test, y_test, t_test = torch.meshgrid(x_test, y_test, t_test)\n",
        "\n",
        "x_test = torch.reshape(x_test, (-1, 1)).to(device)\n",
        "y_test = torch.reshape(y_test, (-1, 1)).to(device)\n",
        "t_test = torch.reshape(t_test, (-1, 1)).to(device)\n",
        "\n",
        "x_test.shape, y_test.shape, t_test.shape"
      ]
    },
    {
      "cell_type": "code",
      "execution_count": null,
      "metadata": {
        "id": "dcWXOk7yerkT"
      },
      "outputs": [],
      "source": [
        "u_test, v_test = PINN.inference(x_test, y_test, t_test)"
      ]
    },
    {
      "cell_type": "code",
      "execution_count": null,
      "metadata": {
        "colab": {
          "base_uri": "https://localhost:8080/",
          "height": 451
        },
        "id": "WDDRD6pgdzte",
        "outputId": "24ab9588-32e2-445b-8b42-536449842af4"
      },
      "outputs": [
        {
          "output_type": "execute_result",
          "data": {
            "text/plain": [
              "<matplotlib.colorbar.Colorbar at 0x787e13b5b8e0>"
            ]
          },
          "metadata": {},
          "execution_count": 42
        },
        {
          "output_type": "display_data",
          "data": {
            "text/plain": [
              "<Figure size 640x480 with 2 Axes>"
            ],
            "image/png": "[encoded data removed]"
          },
          "metadata": {}
        }
      ],
      "source": [
        "sns.kdeplot(x=x_test.cpu().detach().numpy().squeeze(), y=y_test.cpu().detach().numpy().squeeze(),\n",
        "            )\n",
        "plt.imshow(u_test.cpu().detach().numpy().reshape(100,100), cmap='jet')\n",
        "plt.colorbar()"
      ]
    },
    {
      "cell_type": "code",
      "execution_count": null,
      "metadata": {
        "colab": {
          "base_uri": "https://localhost:8080/",
          "height": 562
        },
        "id": "DBel3wqRey6L",
        "outputId": "01d1b3d8-a851-4a27-d050-4a1b601fedbd"
      },
      "outputs": [
        {
          "output_type": "stream",
          "name": "stderr",
          "text": [
            "<ipython-input-43-4f56f17d8b28>:1: FutureWarning: \n",
            "\n",
            "`shade` is now deprecated in favor of `fill`; setting `fill=True`.\n",
            "This will become an error in seaborn v0.14.0; please update your code.\n",
            "\n",
            "  sns.kdeplot(x=x_test.cpu().detach().numpy().squeeze(), y=y_test.cpu().detach().numpy().squeeze(),\n"
          ]
        },
        {
          "output_type": "execute_result",
          "data": {
            "text/plain": [
              "<matplotlib.colorbar.Colorbar at 0x787e099b6d40>"
            ]
          },
          "metadata": {},
          "execution_count": 43
        },
        {
          "output_type": "display_data",
          "data": {
            "text/plain": [
              "<Figure size 640x480 with 2 Axes>"
            ],
            "image/png": "[encoded data removed]"
          },
          "metadata": {}
        }
      ],
      "source": [
        "sns.kdeplot(x=x_test.cpu().detach().numpy().squeeze(), y=y_test.cpu().detach().numpy().squeeze(),\n",
        "            cmap='hot', shade=True)\n",
        "plt.imshow(v_test.cpu().detach().numpy().reshape(100,100), cmap='hot', alpha=0.5, extent=[0, 100, 0, 100])\n",
        "plt.colorbar()"
      ]
    }
  ],
  "metadata": {
    "colab": {
      "provenance": [],
      "gpuType": "T4"
    },
    "kernelspec": {
      "display_name": "Python 3",
      "name": "python3"
    },
    "language_info": {
      "name": "python"
    },
    "accelerator": "GPU"
  },
  "nbformat": 4,
  "nbformat_minor": 0
}